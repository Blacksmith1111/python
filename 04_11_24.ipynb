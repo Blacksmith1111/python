{
  "nbformat": 4,
  "nbformat_minor": 0,
  "metadata": {
    "colab": {
      "provenance": [],
      "authorship_tag": "ABX9TyPg//s5jTfFbW5QGUEenpmi",
      "include_colab_link": true
    },
    "kernelspec": {
      "name": "python3",
      "display_name": "Python 3"
    },
    "language_info": {
      "name": "python"
    }
  },
  "cells": [
    {
      "cell_type": "markdown",
      "metadata": {
        "id": "view-in-github",
        "colab_type": "text"
      },
      "source": [
        "<a href=\"https://colab.research.google.com/github/Blacksmith1111/python/blob/main/04_11_24.ipynb\" target=\"_parent\"><img src=\"https://colab.research.google.com/assets/colab-badge.svg\" alt=\"Open In Colab\"/></a>"
      ]
    },
    {
      "cell_type": "code",
      "execution_count": 1,
      "metadata": {
        "id": "lx1NEh0NHyCO",
        "colab": {
          "base_uri": "https://localhost:8080/"
        },
        "outputId": "7cb5cc2c-305c-4008-fd0f-09f56f1654fd"
      },
      "outputs": [
        {
          "output_type": "stream",
          "name": "stdout",
          "text": [
            "45\n",
            "44\n"
          ]
        }
      ],
      "source": [
        "def last_discharge(a):\n",
        "  assert isinstance(a, str)\n",
        "  a = list(a)\n",
        "  out = \"\"\n",
        "  if len(a) == 1:\n",
        "    el = int(a[0]) - 1\n",
        "    a[0] += str(el)\n",
        "    return out\n",
        "  if a[-1] == \"0\":\n",
        "    a[-1] = \"9\"\n",
        "    for i in range(len(a) - 2, -1, -1):\n",
        "      if a[i] == \".\":\n",
        "        pass\n",
        "      elif i == 0 and int(a[i]) == 1:\n",
        "        if a[i + 1] == \".\":\n",
        "          a[i] = \"0\"\n",
        "        else:\n",
        "          a = a[1:]\n",
        "      elif int(a[i]) > 0:\n",
        "        el = int(a[i]) - 1\n",
        "        a[i] = str(el)\n",
        "        break\n",
        "      elif int(a[i]) == 0:\n",
        "        a[i] = \"9\"\n",
        "  else:\n",
        "    last = int(a[-1]) - 1\n",
        "    a[-1] = str(last)\n",
        "  a = ''.join(a)\n",
        "  return a\n",
        "\n",
        "a = input()\n",
        "print(last_discharge(a))\n",
        "\n",
        "\n",
        "\n"
      ]
    },
    {
      "cell_type": "code",
      "source": [
        "filename = input()\n",
        "file = open(filename, \"r\")\n",
        "text = file.read()\n",
        "def words_freq_counter(text):\n",
        "    flat_list = [word for line in text.splitlines() for word in line.split()]\n",
        "    wdict = {}\n",
        "    for el in flat_list:\n",
        "      if el in wdict:\n",
        "        wdict[el] += 1\n",
        "      else:\n",
        "        wdict[el] = 1\n",
        "    sorted_freqs = dict(sorted(wdict.items(), key = lambda item: item[1], reverse = True))\n",
        "    for key, val in sorted_freqs.items():\n",
        "      #print(val, key, \"\\n\")\n",
        "      print(f\"{val} {key}\")\n",
        "words_freq_counter(text)\n"
      ],
      "metadata": {
        "colab": {
          "base_uri": "https://localhost:8080/",
          "height": 228
        },
        "id": "YXcfv7ZV6qKb",
        "outputId": "d83df98d-f664-415d-a922-54dc053dc5f9"
      },
      "execution_count": 2,
      "outputs": [
        {
          "name": "stdout",
          "output_type": "stream",
          "text": [
            "tt.txt\n"
          ]
        },
        {
          "output_type": "error",
          "ename": "FileNotFoundError",
          "evalue": "[Errno 2] No such file or directory: 'tt.txt'",
          "traceback": [
            "\u001b[0;31m---------------------------------------------------------------------------\u001b[0m",
            "\u001b[0;31mFileNotFoundError\u001b[0m                         Traceback (most recent call last)",
            "\u001b[0;32m<ipython-input-2-7700bd9f07cd>\u001b[0m in \u001b[0;36m<cell line: 2>\u001b[0;34m()\u001b[0m\n\u001b[1;32m      1\u001b[0m \u001b[0mfilename\u001b[0m \u001b[0;34m=\u001b[0m \u001b[0minput\u001b[0m\u001b[0;34m(\u001b[0m\u001b[0;34m)\u001b[0m\u001b[0;34m\u001b[0m\u001b[0;34m\u001b[0m\u001b[0m\n\u001b[0;32m----> 2\u001b[0;31m \u001b[0mfile\u001b[0m \u001b[0;34m=\u001b[0m \u001b[0mopen\u001b[0m\u001b[0;34m(\u001b[0m\u001b[0mfilename\u001b[0m\u001b[0;34m,\u001b[0m \u001b[0;34m\"r\"\u001b[0m\u001b[0;34m)\u001b[0m\u001b[0;34m\u001b[0m\u001b[0;34m\u001b[0m\u001b[0m\n\u001b[0m\u001b[1;32m      3\u001b[0m \u001b[0mtext\u001b[0m \u001b[0;34m=\u001b[0m \u001b[0mfile\u001b[0m\u001b[0;34m.\u001b[0m\u001b[0mread\u001b[0m\u001b[0;34m(\u001b[0m\u001b[0;34m)\u001b[0m\u001b[0;34m\u001b[0m\u001b[0;34m\u001b[0m\u001b[0m\n\u001b[1;32m      4\u001b[0m \u001b[0;32mdef\u001b[0m \u001b[0mwords_freq_counter\u001b[0m\u001b[0;34m(\u001b[0m\u001b[0mtext\u001b[0m\u001b[0;34m)\u001b[0m\u001b[0;34m:\u001b[0m\u001b[0;34m\u001b[0m\u001b[0;34m\u001b[0m\u001b[0m\n\u001b[1;32m      5\u001b[0m     \u001b[0mflat_list\u001b[0m \u001b[0;34m=\u001b[0m \u001b[0;34m[\u001b[0m\u001b[0mword\u001b[0m \u001b[0;32mfor\u001b[0m \u001b[0mline\u001b[0m \u001b[0;32min\u001b[0m \u001b[0mtext\u001b[0m\u001b[0;34m.\u001b[0m\u001b[0msplitlines\u001b[0m\u001b[0;34m(\u001b[0m\u001b[0;34m)\u001b[0m \u001b[0;32mfor\u001b[0m \u001b[0mword\u001b[0m \u001b[0;32min\u001b[0m \u001b[0mline\u001b[0m\u001b[0;34m.\u001b[0m\u001b[0msplit\u001b[0m\u001b[0;34m(\u001b[0m\u001b[0;34m)\u001b[0m\u001b[0;34m]\u001b[0m\u001b[0;34m\u001b[0m\u001b[0;34m\u001b[0m\u001b[0m\n",
            "\u001b[0;31mFileNotFoundError\u001b[0m: [Errno 2] No such file or directory: 'tt.txt'"
          ]
        }
      ]
    },
    {
      "cell_type": "code",
      "source": [
        "arr = [1,1,1,1,12,2,22,2,2,2]\n",
        "wdict = {}\n",
        "for el in arr:\n",
        "  if el in wdict:\n",
        "    wdict[el] += 1\n",
        "  else:\n",
        "    wdict[el] = 1\n",
        "sorted_freqs = dict(sorted(wdict.items(), key = lambda item: item[1]))\n",
        "print(wdict)\n",
        "print(sorted_freqs)"
      ],
      "metadata": {
        "colab": {
          "base_uri": "https://localhost:8080/"
        },
        "id": "r2w7C1KP_XVI",
        "outputId": "0dee35e2-05ac-4771-aa9c-e2c6286c958b"
      },
      "execution_count": 3,
      "outputs": [
        {
          "output_type": "stream",
          "name": "stdout",
          "text": [
            "{1: 4, 12: 1, 2: 4, 22: 1}\n",
            "{12: 1, 22: 1, 1: 4, 2: 4}\n"
          ]
        }
      ]
    }
  ]
}